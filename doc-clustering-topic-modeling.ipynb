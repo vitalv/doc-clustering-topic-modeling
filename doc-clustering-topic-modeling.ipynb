{
 "cells": [
  {
   "cell_type": "code",
   "execution_count": 1,
   "metadata": {},
   "outputs": [],
   "source": [
    "import csv\n",
    "import numpy as np\n",
    "from scipy import sparse\n",
    "from sklearn.cluster import KMeans\n",
    "from sklearn.naive_bayes import MultinomialNB\n",
    "from sklearn.metrics.pairwise import cosine_similarity\n",
    "from sklearn.feature_extraction.text import TfidfTransformer"
   ]
  },
  {
   "cell_type": "markdown",
   "metadata": {},
   "source": [
    "## Read vocabulary file"
   ]
  },
  {
   "cell_type": "code",
   "execution_count": 2,
   "metadata": {},
   "outputs": [],
   "source": [
    "def read_vocab(vocab_file_name):\n",
    "    return [w.strip() for w in open(vocab_file_name)]"
   ]
  },
  {
   "cell_type": "code",
   "execution_count": 3,
   "metadata": {},
   "outputs": [],
   "source": [
    "vocab = read_vocab('vocab.kos.txt')"
   ]
  },
  {
   "cell_type": "markdown",
   "metadata": {},
   "source": [
    "## Read docword.txt into a document x word matrix"
   ]
  },
  {
   "cell_type": "code",
   "execution_count": 4,
   "metadata": {},
   "outputs": [],
   "source": [
    "def read_docword(file_name):\n",
    "\n",
    "    file_handle = open(file_name)\n",
    "    reader = csv.reader(file_handle, delimiter=' ')\n",
    "    D = int(next(reader)[0])\n",
    "    W = int(next(reader)[0])\n",
    "    N = int(next(reader)[0])\n",
    "\n",
    "    #create DxW numpy matrix\n",
    "    m = np.empty(shape=[D,W], dtype='int8')\n",
    "    #instead of creating a sparse matrix and then fill it up, create a numpy matrix\n",
    "    #and then later convert it to csr -> SparseEfficiencyWarning\n",
    "    #m = sparse.csr_matrix( (D,W), dtype='int8')\n",
    "\n",
    "    for row in reader:\n",
    "        D_i = int(row[0])-1\n",
    "        W_i = int(row[1])-1\n",
    "        count = int(row[2])\n",
    "        m[D_i, W_i] = count\n",
    "\n",
    "    m = sparse.csr_matrix(m)\n",
    "\n",
    "    return D,W,N,m"
   ]
  },
  {
   "cell_type": "code",
   "execution_count": 5,
   "metadata": {},
   "outputs": [],
   "source": [
    "D,W,N,docword = read_docword('docword.kos.txt')"
   ]
  },
  {
   "cell_type": "markdown",
   "metadata": {},
   "source": [
    "##  TF-IDF: term frequency inverse document frequency\n",
    "### It's a more reliable metric than plain frequency because it normalizes frequency across documents.  Very common (and semantically meaningless) words like articles ('the', 'a', 'an' ...), prepositions, etc... are in this way given less weight and filtered out \n"
   ]
  },
  {
   "cell_type": "code",
   "execution_count": 6,
   "metadata": {},
   "outputs": [],
   "source": [
    "tfidf_transformer = TfidfTransformer()\n",
    "docword_tfidf = tfidf_transformer.fit_transform(docword)"
   ]
  },
  {
   "cell_type": "markdown",
   "metadata": {},
   "source": [
    "## Initialize K-Means object"
   ]
  },
  {
   "cell_type": "code",
   "execution_count": 7,
   "metadata": {},
   "outputs": [],
   "source": [
    "k = 20\n",
    "km = KMeans(algorithm='auto',\n",
    "            copy_x=True,\n",
    "            init='k-means++',\n",
    "            max_iter=300,\n",
    "            n_clusters=k,\n",
    "            n_init=10,\n",
    "            n_jobs=1,\n",
    "            precompute_distances='auto',\n",
    "            random_state=None,\n",
    "            tol=0.0001,\n",
    "            verbose=0)"
   ]
  },
  {
   "cell_type": "markdown",
   "metadata": {},
   "source": [
    "## Compute KMeans on the TFIDF matrix"
   ]
  },
  {
   "cell_type": "code",
   "execution_count": 8,
   "metadata": {},
   "outputs": [
    {
     "name": "stdout",
     "output_type": "stream",
     "text": [
      "CPU times: user 27.9 s, sys: 0 ns, total: 27.9 s\n",
      "Wall time: 27.9 s\n"
     ]
    }
   ],
   "source": [
    "%time km.fit(docword_tfidf)\n",
    "clusters = km.labels_.tolist()"
   ]
  },
  {
   "cell_type": "markdown",
   "metadata": {},
   "source": [
    "### Sort cluster centers by proximity to centroid"
   ]
  },
  {
   "cell_type": "code",
   "execution_count": 9,
   "metadata": {},
   "outputs": [],
   "source": [
    "k_centers = km.cluster_centers_ #Coordinates of cluster centers\n",
    "order_centroids = k_centers.argsort()[:, ::-1] #argsort returns the indices that would sort an array"
   ]
  },
  {
   "cell_type": "markdown",
   "metadata": {},
   "source": [
    "### Print Cluster index and n words (closest to centroid) associated"
   ]
  },
  {
   "cell_type": "code",
   "execution_count": 11,
   "metadata": {},
   "outputs": [
    {
     "name": "stdout",
     "output_type": "stream",
     "text": [
      "Cluster 0: november,account,electoral,turnout,governor\n",
      "Cluster 1: edwards,dean,clark,kerry,primary\n",
      "Cluster 2: bush,kerry,campaign,general,media\n",
      "Cluster 3: november,voting,vote,account,electoral\n",
      "Cluster 4: herseth,district,diedrich,house,seat\n",
      "Cluster 5: bush,tax,court,administration,government\n",
      "Cluster 6: kerry,bush,poll,voters,general\n",
      "Cluster 7: bush,administration,iraq,president,cheney\n",
      "Cluster 8: november,voting,account,electoral,governor\n",
      "Cluster 9: percent,voters,bush,states,state\n",
      "Cluster 10: million,raised,money,campaign,bush\n",
      "Cluster 11: carson,coburn,knowles,oklahoma,murkowski\n",
      "Cluster 12: senate,elections,races,house,race\n",
      "Cluster 13: delay,donors,ethics,morrison,house\n",
      "Cluster 14: dean,deans,unions,campaign,democratic\n",
      "Cluster 15: clark,dean,lieberman,gephardt,poll\n",
      "Cluster 16: party,nader,ballot,democratic,republican\n",
      "Cluster 17: iowa,dean,gephardt,primary,edwards\n",
      "Cluster 18: iraq,war,iraqi,military,soldiers\n",
      "Cluster 19: marriage,gay,amendment,musgrave,samesex\n"
     ]
    }
   ],
   "source": [
    "for c in range(k):\n",
    "    print \"Cluster %i: \" % c + \\\n",
    "            ','.join([vocab[i] for i in [ix for ix in order_centroids[c, :5]]])"
   ]
  },
  {
   "cell_type": "code",
   "execution_count": null,
   "metadata": {},
   "outputs": [],
   "source": []
  }
 ],
 "metadata": {
  "kernelspec": {
   "display_name": "Python 2",
   "language": "python",
   "name": "python2"
  },
  "language_info": {
   "codemirror_mode": {
    "name": "ipython",
    "version": 2
   },
   "file_extension": ".py",
   "mimetype": "text/x-python",
   "name": "python",
   "nbconvert_exporter": "python",
   "pygments_lexer": "ipython2",
   "version": "2.7.12"
  }
 },
 "nbformat": 4,
 "nbformat_minor": 2
}
