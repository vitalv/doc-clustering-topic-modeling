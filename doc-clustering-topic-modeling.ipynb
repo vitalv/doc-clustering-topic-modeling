{
 "cells": [
  {
   "cell_type": "code",
   "execution_count": 17,
   "metadata": {},
   "outputs": [],
   "source": [
    "import csv\n",
    "import numpy as np\n",
    "%matplotlib inline \n",
    "import seaborn as sb\n",
    "from scipy import sparse\n",
    "import matplotlib.pyplot as plt\n",
    "from sklearn.manifold import TSNE\n",
    "from sklearn.cluster import KMeans\n",
    "import scipy.cluster.hierarchy as sch\n",
    "import scipy.spatial.distance as scdist\n",
    "from sklearn.naive_bayes import MultinomialNB\n",
    "from sklearn.metrics.pairwise import cosine_similarity\n",
    "from sklearn.feature_extraction.text import TfidfTransformer\n",
    "from sklearn.metrics import silhouette_score, silhouette_samples\n"
   ]
  },
  {
   "cell_type": "markdown",
   "metadata": {},
   "source": [
    "# Read and format data"
   ]
  },
  {
   "cell_type": "markdown",
   "metadata": {},
   "source": [
    "## Read vocabulary file"
   ]
  },
  {
   "cell_type": "code",
   "execution_count": 3,
   "metadata": {},
   "outputs": [],
   "source": [
    "def read_vocab(vocab_file_name):\n",
    "    return [w.strip() for w in open(vocab_file_name)]"
   ]
  },
  {
   "cell_type": "code",
   "execution_count": 4,
   "metadata": {},
   "outputs": [],
   "source": [
    "vocab = read_vocab('vocab.kos.txt')"
   ]
  },
  {
   "cell_type": "markdown",
   "metadata": {},
   "source": [
    "## Read docword.txt into a document x word matrix"
   ]
  },
  {
   "cell_type": "code",
   "execution_count": 5,
   "metadata": {},
   "outputs": [],
   "source": [
    "def read_docword(file_name):\n",
    "\n",
    "    file_handle = open(file_name)\n",
    "    reader = csv.reader(file_handle, delimiter=' ')\n",
    "    D = int(next(reader)[0])\n",
    "    W = int(next(reader)[0])\n",
    "    N = int(next(reader)[0])\n",
    "\n",
    "    #create DxW numpy matrix\n",
    "    m = np.empty(shape=[D,W], dtype='int8')\n",
    "    #instead of creating a sparse matrix and then fill it up, create a numpy matrix\n",
    "    #and then later convert it to csr -> SparseEfficiencyWarning\n",
    "    #m = sparse.csr_matrix( (D,W), dtype='int8')\n",
    "\n",
    "    for row in reader:\n",
    "        D_i = int(row[0])-1\n",
    "        W_i = int(row[1])-1\n",
    "        count = int(row[2])\n",
    "        m[D_i, W_i] = count\n",
    "\n",
    "    m = sparse.csr_matrix(m)\n",
    "\n",
    "    return D,W,N,m"
   ]
  },
  {
   "cell_type": "code",
   "execution_count": 6,
   "metadata": {},
   "outputs": [],
   "source": [
    "D,W,N,docword = read_docword('docword.kos.txt')"
   ]
  },
  {
   "cell_type": "markdown",
   "metadata": {},
   "source": [
    "##  TF-IDF: term frequency inverse document frequency"
   ]
  },
  {
   "cell_type": "markdown",
   "metadata": {},
   "source": [
    "TFIDF is a more reliable metric than plain frequency because it normalizes frequency across documents.  Very common (and semantically meaningless) words like articles ('the', 'a', 'an' ...), prepositions, etc... are in this way given less weight and filtered out "
   ]
  },
  {
   "cell_type": "code",
   "execution_count": 7,
   "metadata": {},
   "outputs": [],
   "source": [
    "tfidf_transformer = TfidfTransformer()\n",
    "docword_tfidf = tfidf_transformer.fit_transform(docword)"
   ]
  },
  {
   "cell_type": "markdown",
   "metadata": {},
   "source": [
    "# Document Clustering and Topic Modeling"
   ]
  },
  {
   "cell_type": "markdown",
   "metadata": {},
   "source": [
    "Now comes the interesting part  \n",
    "\n",
    "This is an unsupervised document clustering / topic extraction.\n",
    "No previous knowledge on the number of topics there are in every corpus of documents.  \n",
    "\n",
    "A conventional approach involves an -optional- initial step of LSA (Latent Semantic Analysis) (TruncatedSVD)  \n",
    "for dimensionalty reduction followed by K-Means.  The downside to this approach in this scenario is that it requires a predefined number of clusters, which is not available\n",
    "\n",
    "There might not be an optimal number of clusters with complete separation, but there are ways to assess/approximate it.\n",
    "The 'elbow' method consists of plotting a range of number of clusters on the x axis and the average within-cluster sum of squares in the y axis (as a measure of within cluster similarity between its elements). Then an inflexion point would be\n",
    "indicative of a good k  \n",
    "\n",
    "Another option to estimate an initial number of clusters consists of running a hierachical clustering and plot a dendrogram. Depending on the method and metric different results can be achieved.   \n",
    "\n",
    "If a good candidate for k is found K-Means can be re-run using it as input. In addition, several K-Means runs are advised since the algorithm might end up in a local optima.   \n",
    "\n",
    "Another approach would be to use a different clustering algorithm not requiring a predefined number of clusters:\n",
    "Means-shift, for instance "
   ]
  },
  {
   "cell_type": "markdown",
   "metadata": {},
   "source": [
    "## Initialize K-Means object"
   ]
  },
  {
   "cell_type": "code",
   "execution_count": 8,
   "metadata": {},
   "outputs": [],
   "source": [
    "k = 20\n",
    "km = KMeans(algorithm='auto',\n",
    "            copy_x=True,\n",
    "            init='k-means++',\n",
    "            max_iter=300,\n",
    "            n_clusters=k,\n",
    "            n_init=10,\n",
    "            n_jobs=1,\n",
    "            precompute_distances='auto',\n",
    "            random_state=None,\n",
    "            tol=0.0001,\n",
    "            verbose=0)"
   ]
  },
  {
   "cell_type": "markdown",
   "metadata": {},
   "source": [
    "## Compute KMeans on the TFIDF matrix"
   ]
  },
  {
   "cell_type": "code",
   "execution_count": 12,
   "metadata": {},
   "outputs": [
    {
     "name": "stdout",
     "output_type": "stream",
     "text": [
      "CPU times: user 30.4 s, sys: 3.9 ms, total: 30.4 s\n",
      "Wall time: 30.4 s\n"
     ]
    }
   ],
   "source": [
    "%time km.fit(docword_tfidf)\n",
    "clusters = km.labels_.tolist()"
   ]
  },
  {
   "cell_type": "markdown",
   "metadata": {},
   "source": [
    "### Sort cluster centers by proximity to centroid"
   ]
  },
  {
   "cell_type": "code",
   "execution_count": 13,
   "metadata": {},
   "outputs": [],
   "source": [
    "k_centers = km.cluster_centers_ #Coordinates of cluster centers\n",
    "order_centroids = k_centers.argsort()[:, ::-1] #argsort returns the indices that would sort an array"
   ]
  },
  {
   "cell_type": "markdown",
   "metadata": {},
   "source": [
    "### Print Cluster index and n words (closest to centroid) associated"
   ]
  },
  {
   "cell_type": "code",
   "execution_count": 14,
   "metadata": {},
   "outputs": [
    {
     "name": "stdout",
     "output_type": "stream",
     "text": [
      "Cluster 0: edwards,dean,kerry,clark,primary\n",
      "Cluster 1: house,district,seat,herseth,race\n",
      "Cluster 2: marriage,gay,amendment,keyes,rights\n",
      "Cluster 3: debate,kerry,bush,bunning,debates\n",
      "Cluster 4: november,voting,account,electoral,governor\n",
      "Cluster 5: bush,administration,jobs,tax,president\n",
      "Cluster 6: donors,dkos,dozen,candidates,matsunaka\n",
      "Cluster 7: dean,clark,lieberman,gephardt,poll\n",
      "Cluster 8: carson,coburn,oklahoma,senate,brad\n",
      "Cluster 9: cheney,dick,president,vice,bush\n",
      "Cluster 10: reagan,clinton,adviser,sunday,sens\n",
      "Cluster 11: iraq,bush,administration,war,intelligence\n",
      "Cluster 12: percent,senate,specter,toomey,knowles\n",
      "Cluster 13: kerry,bush,poll,voters,general\n",
      "Cluster 14: iraq,war,iraqi,military,soldiers\n",
      "Cluster 15: party,nader,ballot,democratic,republican\n",
      "Cluster 16: dean,iowa,primary,clark,kerry\n",
      "Cluster 17: bush,kerry,general,media,people\n",
      "Cluster 18: delay,ethics,committee,house,morrison\n",
      "Cluster 19: november,account,electoral,turnout,governor\n"
     ]
    }
   ],
   "source": [
    "for c in range(k):\n",
    "    print \"Cluster %i: \" % c + \\\n",
    "            ','.join([vocab[i] for i in [ix for ix in order_centroids[c, :5]]])"
   ]
  },
  {
   "cell_type": "markdown",
   "metadata": {},
   "source": [
    "### Try to find  optimal number of clusters for k-means. \"Elbow\" method"
   ]
  },
  {
   "cell_type": "code",
   "execution_count": 16,
   "metadata": {},
   "outputs": [
    {
     "data": {
      "text/plain": [
       "<matplotlib.text.Text at 0x7f46f4e204d0>"
      ]
     },
     "execution_count": 16,
     "metadata": {},
     "output_type": "execute_result"
    }
   ],
   "source": [
    "k_range = range(2,20)\n",
    "kms = [KMeans(n_clusters=k, init='k-means++').fit(docword_tfidf) for k in k_range]\n",
    "centroids = [X.cluster_centers_ for X in kms]\n",
    "labels = [km.labels_ for km in kms]\n",
    "#calculate Euclidean distance from each point to cluster center\n",
    "k_euclid = [scdist.cdist(docword_tfidf.todense(), c, 'euclidean') for c in centroids]\n",
    "dist = [np.min(ke, axis=1) for ke in k_euclid]\n",
    "#Total within cluster sum of squares\n",
    "wcss = [sum(d**2) for d in dist]\n",
    "#average wcss\n",
    "avwcss = [(sum(d**2))/len(d) for d in dist]\n",
    "#total sum of squares\n",
    "tss = sum(scdist.pdist(docword_tfidf.todense())**2)/docword_tfidf.shape[0]\n",
    "#between cluster sum of squares:\n",
    "bss = tss - wcss\n",
    "#plot average wcss vs number of clusters \"Elbow plot\": look for a point where the rate of decrease in wcss sharply shifts\n",
    "plt.plot(k_range, avwcss, '-o')\n",
    "plt.ylabel(\"average wcss\")\n",
    "plt.xlabel(\"k\")\n"
   ]
  },
  {
   "cell_type": "markdown",
   "metadata": {},
   "source": [
    "### Not very clear elbow? Check out the Silhouette scores"
   ]
  },
  {
   "cell_type": "code",
   "execution_count": 18,
   "metadata": {},
   "outputs": [
    {
     "name": "stdout",
     "output_type": "stream",
     "text": [
      "[0.019074356579233953, 0.023230543017609302, 0.023516222927777823, 0.025822126987718262, 0.026886844580106935, 0.027614329372006738, 0.012038254714791256, 0.013982249300375985, 0.014178155482504617, 0.025858067892875477, 0.026365436199185018, 0.012416980876030218, 0.014699480020879842, 0.0095106219595900154, 0.012660279578233236, 0.016001927851770962, 0.014771079415903212, 0.015778273564294121]\n"
     ]
    }
   ],
   "source": [
    "silhouette_avg_scores = [silhouette_score(docword_tfidf, l) for l in labels]\n",
    "print silhouette_avg_scores"
   ]
  },
  {
   "cell_type": "markdown",
   "metadata": {},
   "source": [
    "Silhouette Coefficient which is small in this case, but this measure seem to suffer from the phenomenon called “Concentration of Measure” or “Curse of Dimensionality\"   \n",
    "Check http://scikit-learn.org/stable/auto_examples/text/document_clustering.html  "
   ]
  },
  {
   "cell_type": "markdown",
   "metadata": {},
   "source": [
    "## Hierarchical clustering  "
   ]
  },
  {
   "cell_type": "code",
   "execution_count": 21,
   "metadata": {},
   "outputs": [
    {
     "name": "stderr",
     "output_type": "stream",
     "text": [
      "/usr/local/lib/python2.7/dist-packages/ipykernel_launcher.py:15: ClusterWarning: scipy.cluster: The symmetric non-negative hollow observation matrix looks suspiciously like an uncondensed distance matrix\n",
      "  from ipykernel import kernelapp as app\n"
     ]
    },
    {
     "data": {
      "image/png": "[encoded data removed]",
      "text/plain": [
       "<matplotlib.figure.Figure at 0x7f46e9ee4310>"
      ]
     },
     "metadata": {},
     "output_type": "display_data"
    }
   ],
   "source": [
    "#Compute distance matrix . Cosine is a good metric\n",
    "#Pairwise distances between observations in n-dimensional space.\n",
    "#Option 1 is sklearn.metrics.pairwais cosine_similarity\n",
    "dist = 1 - cosine_similarity(docword_tfidf)\n",
    "\n",
    "#Option 2 is scipy.spatial.distance (can't take csr_matrix as input and is slower)\n",
    "D = scdist.pdist(docword_tfidf.todense(), metric='cosine')\n",
    "D = scdist.squareform(D)\n",
    "\n",
    "#Then get linkage matrix\n",
    "#Option 1 define the linkage_matrix using ward clustering pre-computed distances\n",
    "linkage_matrix_ward = sch.ward(dist) \n",
    "\n",
    "#Option 2 \n",
    "linkage_matrix_complete = sch.linkage(D, method='complete')#, metric='cosine')\n",
    "\n",
    "#And then plot the dendrogram\n",
    "\n",
    "dendro_color_threshold = 0.7 #default: 0.7\n",
    "\n",
    "fig, ax = plt.subplots(figsize=(15, 20)) # set size\n",
    "ax = sch.dendrogram(linkage_matrix_ward, orientation=\"left\",color_threshold=dendro_color_threshold*max(linkage_matrix_ward[:,2]));\n",
    "\n",
    "plt.tick_params(\\\n",
    "    axis= 'x',          # changes apply to the x-axis\n",
    "    which='both',      # both major and minor ticks are affected\n",
    "    bottom='off',      # ticks along the bottom edge are off\n",
    "    top='off',         # ticks along the top edge are off\n",
    "    labelbottom='off')\n",
    "\n",
    "plt.tight_layout() #show plot with tight layout\n",
    "plt.show()\n"
   ]
  },
  {
   "cell_type": "markdown",
   "metadata": {},
   "source": [
    "## Dimensionality Reduction and Plot"
   ]
  },
  {
   "cell_type": "markdown",
   "metadata": {},
   "source": [
    "### TSNE\n",
    "t-SNE is a machine learning technique for dimensionality reduction that helps you to identify relevant patterns.  The main advantage of t-SNE is the ability to preserve local structure. This means, roughly, that points which are close to one another in the high-dimensional data set will tend to be close to one another in the chart. t-SNE also produces beautiful looking visualizations."
   ]
  },
  {
   "cell_type": "code",
   "execution_count": 22,
   "metadata": {},
   "outputs": [],
   "source": [
    "tsne_cos = TSNE(n_components=2, \n",
    "                perplexity=30, \n",
    "                learning_rate=1000, \n",
    "                n_iter=1000, \n",
    "                metric='cosine', \n",
    "                verbose=1)"
   ]
  },
  {
   "cell_type": "code",
   "execution_count": 23,
   "metadata": {},
   "outputs": [
    {
     "name": "stdout",
     "output_type": "stream",
     "text": [
      "[t-SNE] Computing 91 nearest neighbors...\n",
      "[t-SNE] Indexed 3430 samples in 0.005s...\n",
      "[t-SNE] Computed neighbors for 3430 samples in 2.428s...\n",
      "[t-SNE] Computed conditional probabilities for sample 1000 / 3430\n",
      "[t-SNE] Computed conditional probabilities for sample 2000 / 3430\n",
      "[t-SNE] Computed conditional probabilities for sample 3000 / 3430\n",
      "[t-SNE] Computed conditional probabilities for sample 3430 / 3430\n",
      "[t-SNE] Mean sigma: 0.006932\n",
      "[t-SNE] KL divergence after 250 iterations with early exaggeration: 90.661690\n",
      "[t-SNE] Error after 1000 iterations: 1.488506\n"
     ]
    }
   ],
   "source": [
    "dist = 1 - cosine_similarity(docword_tfidf)\n",
    "\n",
    "tsne_cos_coords = tsne_cos.fit_transform(dist)\n"
   ]
  },
  {
   "cell_type": "code",
   "execution_count": 24,
   "metadata": {},
   "outputs": [],
   "source": [
    "def scatter(x, colors, nclasses):\n",
    "    palette = np.array(sb.color_palette(\"hls\", nclasses )) # color palette with seaborn.\n",
    "    f = plt.figure(figsize=(8, 8))\n",
    "    ax = plt.subplot(aspect='equal')\n",
    "    sc = ax.scatter(x[:,0], x[:,1], linewidth=0, s=40, color=palette[colors])\n",
    "    plt.xlim(-25, 25)\n",
    "    plt.ylim(-25, 25)\n",
    "    ax.axis('tight')\n",
    "    txts = []\n",
    "    for i in range(nclasses):\n",
    "        xtext, ytext = np.median(x[colors == i, :], axis=0)\n",
    "        txt = ax.text(xtext, ytext, str(i), fontsize=18)\n",
    "        txts.append(txt)\n",
    "    return f, ax, sc, txts\n"
   ]
  },
  {
   "cell_type": "code",
   "execution_count": 26,
   "metadata": {},
   "outputs": [
    {
     "ename": "NameError",
     "evalue": "global name 'sb' is not defined",
     "output_type": "error",
     "traceback": [
      "\u001b[0;31m---------------------------------------------------------------------------\u001b[0m",
      "\u001b[0;31mNameError\u001b[0m                                 Traceback (most recent call last)",
      "\u001b[0;32m<ipython-input-26-432e25435453>\u001b[0m in \u001b[0;36m<module>\u001b[0;34m()\u001b[0m\n\u001b[1;32m      1\u001b[0m \u001b[0mcluster_labels\u001b[0m \u001b[0;34m=\u001b[0m \u001b[0mkm\u001b[0m\u001b[0;34m.\u001b[0m\u001b[0mfit_predict\u001b[0m\u001b[0;34m(\u001b[0m\u001b[0mdocword_tfidf\u001b[0m\u001b[0;34m)\u001b[0m\u001b[0;34m\u001b[0m\u001b[0m\n\u001b[0;32m----> 2\u001b[0;31m \u001b[0mscatter\u001b[0m\u001b[0;34m(\u001b[0m\u001b[0mtsne_cos_coords\u001b[0m\u001b[0;34m,\u001b[0m \u001b[0mcluster_labels\u001b[0m\u001b[0;34m,\u001b[0m \u001b[0mlen\u001b[0m\u001b[0;34m(\u001b[0m\u001b[0mset\u001b[0m\u001b[0;34m(\u001b[0m\u001b[0mclusters\u001b[0m\u001b[0;34m)\u001b[0m\u001b[0;34m)\u001b[0m\u001b[0;34m)\u001b[0m\u001b[0;34m\u001b[0m\u001b[0m\n\u001b[0m",
      "\u001b[0;32m<ipython-input-24-225b2f680cd5>\u001b[0m in \u001b[0;36mscatter\u001b[0;34m(x, colors, nclasses)\u001b[0m\n\u001b[1;32m      1\u001b[0m \u001b[0;32mdef\u001b[0m \u001b[0mscatter\u001b[0m\u001b[0;34m(\u001b[0m\u001b[0mx\u001b[0m\u001b[0;34m,\u001b[0m \u001b[0mcolors\u001b[0m\u001b[0;34m,\u001b[0m \u001b[0mnclasses\u001b[0m\u001b[0;34m)\u001b[0m\u001b[0;34m:\u001b[0m\u001b[0;34m\u001b[0m\u001b[0m\n\u001b[0;32m----> 2\u001b[0;31m     \u001b[0mpalette\u001b[0m \u001b[0;34m=\u001b[0m \u001b[0mnp\u001b[0m\u001b[0;34m.\u001b[0m\u001b[0marray\u001b[0m\u001b[0;34m(\u001b[0m\u001b[0msb\u001b[0m\u001b[0;34m.\u001b[0m\u001b[0mcolor_palette\u001b[0m\u001b[0;34m(\u001b[0m\u001b[0;34m\"hls\"\u001b[0m\u001b[0;34m,\u001b[0m \u001b[0mnclasses\u001b[0m \u001b[0;34m)\u001b[0m\u001b[0;34m)\u001b[0m \u001b[0;31m# color palette with seaborn.\u001b[0m\u001b[0;34m\u001b[0m\u001b[0m\n\u001b[0m\u001b[1;32m      3\u001b[0m     \u001b[0mf\u001b[0m \u001b[0;34m=\u001b[0m \u001b[0mplt\u001b[0m\u001b[0;34m.\u001b[0m\u001b[0mfigure\u001b[0m\u001b[0;34m(\u001b[0m\u001b[0mfigsize\u001b[0m\u001b[0;34m=\u001b[0m\u001b[0;34m(\u001b[0m\u001b[0;36m8\u001b[0m\u001b[0;34m,\u001b[0m \u001b[0;36m8\u001b[0m\u001b[0;34m)\u001b[0m\u001b[0;34m)\u001b[0m\u001b[0;34m\u001b[0m\u001b[0m\n\u001b[1;32m      4\u001b[0m     \u001b[0max\u001b[0m \u001b[0;34m=\u001b[0m \u001b[0mplt\u001b[0m\u001b[0;34m.\u001b[0m\u001b[0msubplot\u001b[0m\u001b[0;34m(\u001b[0m\u001b[0maspect\u001b[0m\u001b[0;34m=\u001b[0m\u001b[0;34m'equal'\u001b[0m\u001b[0;34m)\u001b[0m\u001b[0;34m\u001b[0m\u001b[0m\n\u001b[1;32m      5\u001b[0m     \u001b[0msc\u001b[0m \u001b[0;34m=\u001b[0m \u001b[0max\u001b[0m\u001b[0;34m.\u001b[0m\u001b[0mscatter\u001b[0m\u001b[0;34m(\u001b[0m\u001b[0mx\u001b[0m\u001b[0;34m[\u001b[0m\u001b[0;34m:\u001b[0m\u001b[0;34m,\u001b[0m\u001b[0;36m0\u001b[0m\u001b[0;34m]\u001b[0m\u001b[0;34m,\u001b[0m \u001b[0mx\u001b[0m\u001b[0;34m[\u001b[0m\u001b[0;34m:\u001b[0m\u001b[0;34m,\u001b[0m\u001b[0;36m1\u001b[0m\u001b[0;34m]\u001b[0m\u001b[0;34m,\u001b[0m \u001b[0mlinewidth\u001b[0m\u001b[0;34m=\u001b[0m\u001b[0;36m0\u001b[0m\u001b[0;34m,\u001b[0m \u001b[0ms\u001b[0m\u001b[0;34m=\u001b[0m\u001b[0;36m40\u001b[0m\u001b[0;34m,\u001b[0m \u001b[0mcolor\u001b[0m\u001b[0;34m=\u001b[0m\u001b[0mpalette\u001b[0m\u001b[0;34m[\u001b[0m\u001b[0mcolors\u001b[0m\u001b[0;34m]\u001b[0m\u001b[0;34m)\u001b[0m\u001b[0;34m\u001b[0m\u001b[0m\n",
      "\u001b[0;31mNameError\u001b[0m: global name 'sb' is not defined"
     ]
    }
   ],
   "source": [
    "cluster_labels = km.fit_predict(docword_tfidf)\n",
    "scatter(tsne_cos_coords, cluster_labels, len(set(clusters)))"
   ]
  },
  {
   "cell_type": "code",
   "execution_count": null,
   "metadata": {},
   "outputs": [],
   "source": []
  }
 ],
 "metadata": {
  "kernelspec": {
   "display_name": "Python 2",
   "language": "python",
   "name": "python2"
  },
  "language_info": {
   "codemirror_mode": {
    "name": "ipython",
    "version": 2
   },
   "file_extension": ".py",
   "mimetype": "text/x-python",
   "name": "python",
   "nbconvert_exporter": "python",
   "pygments_lexer": "ipython2",
   "version": "2.7.12"
  }
 },
 "nbformat": 4,
 "nbformat_minor": 2
}
